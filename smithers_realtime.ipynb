{
 "cells": [
  {
   "cell_type": "code",
   "execution_count": 1,
   "metadata": {},
   "outputs": [],
   "source": [
    "import sounddevice as sd\n",
    "import numpy as np\n",
    "import python_speech_features\n",
    "from tflite_runtime.interpreter import Interpreter\n",
    "import matplotlib.pyplot as plt\n",
    "\n",
    "model_path = 'smithers_lite.tflite'\n",
    "clip_length = 1\n",
    "buffer_length = clip_length / 2\n",
    "resample_rate = 10000\n",
    "threshold = 0.5"
   ]
  },
  {
   "cell_type": "code",
   "execution_count": 2,
   "metadata": {},
   "outputs": [],
   "source": [
    "window = np.int16(np.zeros(int(buffer_length * resample_rate) * 2))\n",
    "\n",
    "interpreter = Interpreter(model_path)\n",
    "interpreter.allocate_tensors()\n",
    "input_details = interpreter.get_input_details()\n",
    "output_details = interpreter.get_output_details()"
   ]
  },
  {
   "cell_type": "code",
   "execution_count": 3,
   "metadata": {},
   "outputs": [],
   "source": [
    "# sounddevice callback\n",
    "def sd_callback(rec, frames, time, status):\n",
    "\n",
    "    # remove unnecessary dimension\n",
    "    rec = np.squeeze(rec)\n",
    "\n",
    "    # sliding window\n",
    "    window[:len(window)//2] = window[len(window)//2:]\n",
    "    window[len(window)//2:] = rec\n",
    "\n",
    "    # calculate mfccs\n",
    "    mfcc = python_speech_features.base.mfcc(window, samplerate=resample_rate, winstep=0.025, numcep=13, winfunc=np.hanning)\n",
    "    mfcc = np.int8(mfcc)\n",
    "    mfcc = mfcc.transpose()\n",
    "\n",
    "    # set up tensors\n",
    "    in_tensor = np.float32(mfcc.reshape(1, mfcc.shape[0], mfcc.shape[1], 1))\n",
    "    interpreter.set_tensor(input_details[0]['index'], in_tensor)\n",
    "    interpreter.invoke()\n",
    "    output = interpreter.get_tensor(output_details[0]['index'])\n",
    "    prediction = output[0][0]\n",
    "\n",
    "    # if \"Hey Smithers\" is detected\n",
    "    if prediction > threshold:\n",
    "        print('Hey Smithers detected!')"
   ]
  },
  {
   "cell_type": "code",
   "execution_count": 4,
   "metadata": {},
   "outputs": [
    {
     "name": "stdout",
     "output_type": "stream",
     "text": [
      "Hey Smithers detected!\n",
      "Hey Smithers detected!\n",
      "Hey Smithers detected!\n",
      "Hey Smithers detected!\n",
      "Hey Smithers detected!\n",
      "Hey Smithers detected!\n",
      "Hey Smithers detected!\n",
      "Hey Smithers detected!\n"
     ]
    },
    {
     "ename": "KeyboardInterrupt",
     "evalue": "",
     "output_type": "error",
     "traceback": [
      "\u001b[1;31m---------------------------------------------------------------------------\u001b[0m",
      "\u001b[1;31mKeyboardInterrupt\u001b[0m                         Traceback (most recent call last)",
      "\u001b[1;32m~\\AppData\\Local\\Temp/ipykernel_14072/829164392.py\u001b[0m in \u001b[0;36m<module>\u001b[1;34m\u001b[0m\n\u001b[0;32m      6\u001b[0m                     callback=sd_callback):\n\u001b[0;32m      7\u001b[0m     \u001b[1;32mwhile\u001b[0m \u001b[1;32mTrue\u001b[0m\u001b[1;33m:\u001b[0m\u001b[1;33m\u001b[0m\u001b[1;33m\u001b[0m\u001b[0m\n\u001b[1;32m----> 8\u001b[1;33m         \u001b[1;32mpass\u001b[0m\u001b[1;33m\u001b[0m\u001b[1;33m\u001b[0m\u001b[0m\n\u001b[0m",
      "\u001b[1;31mKeyboardInterrupt\u001b[0m: "
     ]
    }
   ],
   "source": [
    "# set up sounddevice stream\n",
    "with sd.InputStream(channels=1,\n",
    "                    samplerate=resample_rate,\n",
    "                    dtype='int16',\n",
    "                    blocksize=int(resample_rate * buffer_length),\n",
    "                    callback=sd_callback):\n",
    "    while True:\n",
    "        pass"
   ]
  },
  {
   "cell_type": "code",
   "execution_count": null,
   "metadata": {},
   "outputs": [
    {
     "name": "stdout",
     "output_type": "stream",
     "text": [
      "<class 'numpy.int16'>\n"
     ]
    },
    {
     "data": {
      "text/plain": [
       "<matplotlib.image.AxesImage at 0x261478fff10>"
      ]
     },
     "execution_count": 333,
     "metadata": {},
     "output_type": "execute_result"
    },
    {
     "data": {
      "image/png": "[encoded data removed]",
      "text/plain": [
       "<Figure size 432x288 with 1 Axes>"
      ]
     },
     "metadata": {
      "needs_background": "light"
     },
     "output_type": "display_data"
    }
   ],
   "source": [
    "sd.play(window, resample_rate)\n",
    "mfccs = python_speech_features.base.mfcc(window, samplerate=resample_rate, winstep=0.025, numcep=13, winfunc=np.hanning)\n",
    "mfccs = mfccs.transpose()\n",
    "print(type(window[0]))\n",
    "\n",
    "fig = plt.figure()\n",
    "plt.imshow(mfccs, origin='lower', cmap=\"magma\")"
   ]
  }
 ],
 "metadata": {
  "interpreter": {
   "hash": "dc0c082c8278d5ca81fdeb41531b9ccb1c873ba8de4817c0aeff67ccf2426a63"
  },
  "kernelspec": {
   "display_name": "Python 3.9.7 64-bit ('smithers': conda)",
   "name": "python3"
  },
  "language_info": {
   "codemirror_mode": {
    "name": "ipython",
    "version": 3
   },
   "file_extension": ".py",
   "mimetype": "text/x-python",
   "name": "python",
   "nbconvert_exporter": "python",
   "pygments_lexer": "ipython3",
   "version": "3.9.7"
  },
  "orig_nbformat": 4
 },
 "nbformat": 4,
 "nbformat_minor": 2
}
