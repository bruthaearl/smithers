{
 "cells": [
  {
   "cell_type": "code",
   "execution_count": 253,
   "metadata": {},
   "outputs": [],
   "source": [
    "# much of this code is adapted from:\n",
    "# https://github.com/Tony607/Keras-Trigger-Word\n",
    "# https://github.com/ShawnHymel/tflite-speech-recognition\n",
    "\n",
    "import os\n",
    "import random\n",
    "import numpy as np\n",
    "import matplotlib.pyplot as plt\n",
    "import python_speech_features\n",
    "from pydub import AudioSegment\n",
    "from keras import models as Models\n",
    "from keras import layers as Layers\n",
    "%matplotlib inline"
   ]
  },
  {
   "cell_type": "code",
   "execution_count": 254,
   "metadata": {},
   "outputs": [],
   "source": [
    "def build_file_list(path):\n",
    "    file_list = []\n",
    "    for file in os.listdir(path):\n",
    "        file_list.append(os.path.join(path, file))\n",
    "    return file_list"
   ]
  },
  {
   "cell_type": "code",
   "execution_count": 255,
   "metadata": {},
   "outputs": [],
   "source": [
    "def synthesize_sounds(num_sounds):\n",
    "    \n",
    "    files_noise = build_file_list('.\\\\sounds\\\\raw\\\\noise')\n",
    "    files_positive = build_file_list('.\\\\sounds\\\\raw\\\\positive')\n",
    "    files_negative = build_file_list('.\\\\sounds\\\\raw\\\\negative')\n",
    "    silence = AudioSegment.silent(duration=1000);\n",
    "\n",
    "    i = 0\n",
    "    while i < num_sounds :\n",
    "        # select random background noise\n",
    "        random_index = random.randrange(len(files_noise))\n",
    "        raw_noise = AudioSegment.from_file(files_noise[random_index])\n",
    "        # discard if background is shorter than 1000ms\n",
    "        if(len(raw_noise) < 1000) : continue\n",
    "        # randomly choose a 1000ms slice from the background\n",
    "        slice_index = random.randrange(len(raw_noise) - 1000)\n",
    "        raw_noise = raw_noise[slice_index:slice_index+1000]\n",
    "\n",
    "        # select random positive \n",
    "        random_index = random.randrange(len(files_positive))\n",
    "        raw_positive = AudioSegment.from_file(files_positive[random_index])\n",
    "        # discard if raw_positive is greater than 1000ms\n",
    "        if(len(raw_positive) > 1000) : continue\n",
    "\n",
    "        # select random negative\n",
    "        random_index = random.randrange(len(files_negative))\n",
    "        raw_negative = AudioSegment.from_file(files_negative[random_index])\n",
    "        # discard if raw_negative is greater than 1000ms\n",
    "        if(len(raw_positive) > 1000): continue\n",
    "\n",
    "        # randomly choose an insert point for the raw_positive\n",
    "        insert_index = random.randrange(1000-len(raw_positive))\n",
    "        positive_noisy = raw_noise.overlay(raw_positive, position=insert_index)\n",
    "        positive_clean = silence.overlay(raw_positive, position=insert_index)\n",
    "\n",
    "        #randomly choose an insert point for the raw_negative\n",
    "        insert_index = random.randrange(1000-len(raw_negative) + 1)\n",
    "        negative_noisy = raw_noise.overlay(raw_negative, position=insert_index)\n",
    "        negative_clean = silence.overlay(raw_negative, position=insert_index)\n",
    "\n",
    "        # export synthesized audio files\n",
    "        positive_noisy.export('./sounds/synthesized/positive/positive_noisy_' + str(i) + '.wav', format='wav')\n",
    "        positive_clean.export('./sounds/synthesized/positive/positive_clean_' + str(i) + '.wav', format='wav')\n",
    "        negative_noisy.export('./sounds/synthesized/negative/negative_noisy_' + str(i) + '.wav', format='wav')\n",
    "        negative_clean.export('./sounds/synthesized/negative/negative_clean_' + str(i) + '.wav', format='wav')\n",
    "        \n",
    "        \n",
    "        i = i+1\n",
    "    \n",
    "synthesize_sounds(5000)"
   ]
  },
  {
   "cell_type": "code",
   "execution_count": 256,
   "metadata": {},
   "outputs": [
    {
     "name": "stdout",
     "output_type": "stream",
     "text": [
      "./sounds/synthesized/negative/negative_clean_1006.wav\n",
      "(13, 40)\n",
      "<class 'numpy.ndarray'> <class 'numpy.int8'>\n",
      "[[-36 -36 -36 -36 -36 -36 -36 -36   5   6  13  16  19  19  20  20  19  16\n",
      "   15  15  18  19  19  18  18  17  14  13  11  10   5 -36 -36 -36 -36 -36\n",
      "  -36 -36 -36 -36]\n",
      " [  0   0   0   0   0   0   0   0 -18  -9  35  30  17   1  -7  -6   0   7\n",
      "    0  -7   9  19  25  24  19  18  11   5   2   2 -14   0   0   0   0   0\n",
      "    0   0   0   0]\n",
      " [  0   0   0   0   0   0   0   0  -5  -2   6   0 -21 -23 -21 -20 -24 -17\n",
      "   -6 -11 -26 -35 -35 -33 -25 -30 -21 -21 -32 -30 -17   0   0   0   0   0\n",
      "    0   0   0   0]\n",
      " [  0   0   0   0   0   0   0   0 -12  -3 -18 -52 -33  -4   8   3  10   3\n",
      "    2   2  -7 -10 -17 -15 -21  -9  -1  11   9 -12 -19   0   0   0   0   0\n",
      "    0   0   0   0]\n",
      " [  0   0   0   0   0   0   0   0  -3   5 -10   9  25   4 -32 -38 -32  -7\n",
      "    0  10   9   6  10  13   4   3  14  14   7   7 -23   0   0   0   0   0\n",
      "    0   0   0   0]\n",
      " [  0   0   0   0   0   0   0   0  -4   9 -13  25   9 -29 -32 -18 -15 -10\n",
      "   -6   8   2  13   4   9  10  -2   5 -17 -18 -17 -22   0   0   0   0   0\n",
      "    0   0   0   0]\n",
      " [  0   0   0   0   0   0   0   0  -1   1 -10 -58 -74 -60 -39 -38 -36 -22\n",
      "  -15 -23 -44 -68 -65 -61 -73 -54 -27 -17  21 -12  -9   0   0   0   0   0\n",
      "    0   0   0   0]\n",
      " [  0   0   0   0   0   0   0   0  -6 -18 -40  -8 -18  -5 -18 -13 -30 -20\n",
      "  -32 -31 -37 -35 -20 -23  -3  -4  20 -16 -12 -11  -3   0   0   0   0   0\n",
      "    0   0   0   0]\n",
      " [  0   0   0   0   0   0   0   0 -11  -4 -29 -42 -27 -14  -6   0  -4   2\n",
      "   -6 -14   2  19   9  15  12   2 -17  -7   0   3   1   0   0   0   0   0\n",
      "    0   0   0   0]\n",
      " [  0   0   0   0   0   0   0   0  -4 -13  -8   5  23  15  25  22  27  14\n",
      "   18   6  18  -2   6   3   3  -2  -6  18  24  24  -1   0   0   0   0   0\n",
      "    0   0   0   0]\n",
      " [  0   0   0   0   0   0   0   0   0 -11  -7 -15  -1  -7 -20 -34 -16  -5\n",
      "    6 -13  -9  -2  -5 -13  -8   1  -6  -6 -32  -7  -3   0   0   0   0   0\n",
      "    0   0   0   0]\n",
      " [  0   0   0   0   0   0   0   0   1 -22   0  13  -8  -2  -3   5  -4 -29\n",
      "   -4  -4  -9  -5  -8  -1  -6  -1 -16 -12   4   9  -1   0   0   0   0   0\n",
      "    0   0   0   0]\n",
      " [  0   0   0   0   0   0   0   0   0 -18  -9   7 -10  -5  -4 -10   0   3\n",
      "   -8   0  -8  -1  -4  -1  -7 -19  -5   4  15  -8   2   0   0   0   0   0\n",
      "    0   0   0   0]]\n"
     ]
    },
    {
     "data": {
      "text/plain": [
       "21"
      ]
     },
     "execution_count": 256,
     "metadata": {},
     "output_type": "execute_result"
    }
   ],
   "source": [
    "def calc_mfcc(path):\n",
    "    resample_rate = 10000\n",
    "    signal =  AudioSegment.from_wav(path).set_channels(1).set_frame_rate(resample_rate)\n",
    "    signal = np.array(signal.get_array_of_samples())\n",
    "    #sd.play(signal, resample_rate)\n",
    "    mfcc = python_speech_features.base.mfcc(signal, samplerate=resample_rate, winstep=0.025, numcep=13, winfunc=np.hanning)\n",
    "    mfcc = np.int8(mfcc)\n",
    "    return mfcc.transpose()\n",
    "\n",
    "path_list=build_file_list('./sounds/synthesized/negative/')\n",
    "mfcc= calc_mfcc(path_list[5])\n",
    "\n",
    "print(path_list[10])\n",
    "print(mfcc.shape)\n",
    "print(type(mfcc), type(mfcc[1][1]))\n",
    "print(mfcc)\n",
    "max(mfcc[6])\n"
   ]
  },
  {
   "cell_type": "code",
   "execution_count": 257,
   "metadata": {},
   "outputs": [
    {
     "name": "stdout",
     "output_type": "stream",
     "text": [
      "(20000, 13, 40) (20000,)\n"
     ]
    }
   ],
   "source": [
    "# create data sets\n",
    "X = []\n",
    "y = []\n",
    "\n",
    "for positive_file in build_file_list('./sounds/synthesized/positive'):\n",
    "    mfcc = calc_mfcc(positive_file)\n",
    "    X.append(mfcc)\n",
    "    y.append(1)\n",
    "\n",
    "for negative_file in build_file_list('./sounds/synthesized/negative'):\n",
    "    mfcc = calc_mfcc(negative_file)\n",
    "    X.append(mfcc)\n",
    "    y.append(0)\n",
    "\n",
    "X = np.array(X)\n",
    "y = np.array(y)\n",
    "\n",
    "print(X.shape, y.shape)"
   ]
  },
  {
   "cell_type": "code",
   "execution_count": 258,
   "metadata": {},
   "outputs": [],
   "source": [
    "# shuffle data\n",
    "from sklearn.utils import shuffle\n",
    "X, y = shuffle(X, y, random_state=0)"
   ]
  },
  {
   "cell_type": "code",
   "execution_count": 279,
   "metadata": {},
   "outputs": [
    {
     "name": "stdout",
     "output_type": "stream",
     "text": [
      "0\n"
     ]
    },
    {
     "data": {
      "image/png": "[encoded data removed]",
      "text/plain": [
       "<Figure size 432x288 with 1 Axes>"
      ]
     },
     "metadata": {
      "needs_background": "light"
     },
     "output_type": "display_data"
    }
   ],
   "source": [
    "# sanity check\n",
    "index = 100\n",
    "fig = plt.figure()\n",
    "plt.imshow(X[index], origin='lower', cmap=\"magma\")\n",
    "label = \"Positive\" if y[index] else \"Negative\"\n",
    "plt.xlabel('0.025 Second Interval')\n",
    "plt.ylabel('MFCC')\n",
    "plt.title( label + ' Example')\n",
    "\n",
    "print(y[index])"
   ]
  },
  {
   "cell_type": "code",
   "execution_count": 260,
   "metadata": {},
   "outputs": [],
   "source": [
    "# create train, val, and test sets\n",
    "\n",
    "def split_into_sets(X, y):\n",
    "    length_X = len(X)\n",
    "    length_train = int(0.8*length_X)\n",
    "    length_val = int(0.1*length_X)\n",
    "    length_test = int(0.1*length_X)\n",
    "\n",
    "    X_train = X[:length_train]\n",
    "    X_val = X[length_train:length_train+length_val]\n",
    "    X_test= X[length_train+length_val:]\n",
    "    y_train = y[:length_train]\n",
    "    y_val = y[length_train:length_train+length_val]\n",
    "    y_test= y[length_train+length_val:]\n",
    "\n",
    "    return X_train, X_val, X_test, y_train, y_val, y_test\n",
    "\n",
    "X_train, X_val, X_test, y_train, y_val, y_test = split_into_sets(X,y)\n"
   ]
  },
  {
   "cell_type": "code",
   "execution_count": 261,
   "metadata": {},
   "outputs": [],
   "source": [
    "# reshape X_train with batch size\n",
    "X_train = X_train.reshape(X_train.shape[0], X_train.shape[1], X_train.shape[2], 1)\n",
    "X_val = X_val.reshape(X_val.shape[0], X_val.shape[1], X_val.shape[2], 1)\n",
    "X_test = X_test.reshape(X_test.shape[0], X_test.shape[1], X_test.shape[2], 1)"
   ]
  },
  {
   "cell_type": "code",
   "execution_count": 262,
   "metadata": {},
   "outputs": [
    {
     "name": "stdout",
     "output_type": "stream",
     "text": [
      "Model: \"Smithers\"\n",
      "_________________________________________________________________\n",
      "Layer (type)                 Output Shape              Param #   \n",
      "=================================================================\n",
      "input_20 (InputLayer)        [(None, 13, 40, 1)]       0         \n",
      "_________________________________________________________________\n",
      "conv2d_57 (Conv2D)           (None, 12, 39, 32)        160       \n",
      "_________________________________________________________________\n",
      "max_pooling2d_57 (MaxPooling (None, 6, 20, 32)         0         \n",
      "_________________________________________________________________\n",
      "conv2d_58 (Conv2D)           (None, 5, 19, 32)         4128      \n",
      "_________________________________________________________________\n",
      "max_pooling2d_58 (MaxPooling (None, 3, 10, 32)         0         \n",
      "_________________________________________________________________\n",
      "conv2d_59 (Conv2D)           (None, 2, 9, 32)          4128      \n",
      "_________________________________________________________________\n",
      "max_pooling2d_59 (MaxPooling (None, 1, 5, 32)          0         \n",
      "_________________________________________________________________\n",
      "flatten_19 (Flatten)         (None, 160)               0         \n",
      "_________________________________________________________________\n",
      "dense_38 (Dense)             (None, 16)                2576      \n",
      "_________________________________________________________________\n",
      "dropout_19 (Dropout)         (None, 16)                0         \n",
      "_________________________________________________________________\n",
      "dense_39 (Dense)             (None, 1)                 17        \n",
      "=================================================================\n",
      "Total params: 11,009\n",
      "Trainable params: 11,009\n",
      "Non-trainable params: 0\n",
      "_________________________________________________________________\n"
     ]
    }
   ],
   "source": [
    "\n",
    "shape = X_train[0].shape\n",
    "\n",
    "M_input = Models.Input(shape=shape)\n",
    "M = Layers.Conv2D(filters=32, kernel_size=(2,2), activation='relu')(M_input)\n",
    "M = Layers.MaxPooling2D(pool_size=(2, 2), padding='same')(M)\n",
    "M = Layers.Conv2D(32, (2, 2), activation='relu')(M)\n",
    "M = Layers.MaxPooling2D(pool_size=(2, 2), padding='same')(M)\n",
    "M = Layers.Conv2D(32, (2, 2), activation='relu')(M)\n",
    "M = Layers.MaxPooling2D(pool_size=(2, 2), padding='same')(M)\n",
    "M = Layers.Flatten()(M)\n",
    "M = Layers.Dense(16, activation='relu')(M)\n",
    "M = Layers.Dropout(0.5)(M)\n",
    "M = Layers.Dense(1, activation='sigmoid')(M)\n",
    "\n",
    "model = Models.Model(inputs=M_input, outputs=M, name=\"Smithers\")\n",
    "model.summary()\n"
   ]
  },
  {
   "cell_type": "code",
   "execution_count": null,
   "metadata": {},
   "outputs": [],
   "source": [
    "from keras.utils import plot_model\n",
    "plot_model(model, show_shapes=True, show_dtype=True, dpi=100)"
   ]
  },
  {
   "cell_type": "code",
   "execution_count": 263,
   "metadata": {},
   "outputs": [],
   "source": [
    "model.compile(loss='binary_crossentropy', optimizer='sgd', metrics=['acc'])"
   ]
  },
  {
   "cell_type": "code",
   "execution_count": 264,
   "metadata": {},
   "outputs": [
    {
     "name": "stdout",
     "output_type": "stream",
     "text": [
      "Epoch 1/30\n",
      "160/160 [==============================] - 4s 17ms/step - loss: 0.4537 - acc: 0.7826 - val_loss: 0.1612 - val_acc: 0.9590\n",
      "Epoch 2/30\n",
      "160/160 [==============================] - 3s 18ms/step - loss: 0.1940 - acc: 0.9269 - val_loss: 0.0718 - val_acc: 0.9805\n",
      "Epoch 3/30\n",
      "160/160 [==============================] - 2s 15ms/step - loss: 0.1387 - acc: 0.9521 - val_loss: 0.0741 - val_acc: 0.9735\n",
      "Epoch 4/30\n",
      "160/160 [==============================] - 2s 15ms/step - loss: 0.1117 - acc: 0.9633 - val_loss: 0.0403 - val_acc: 0.9855\n",
      "Epoch 5/30\n",
      "160/160 [==============================] - 2s 15ms/step - loss: 0.0989 - acc: 0.9693 - val_loss: 0.0445 - val_acc: 0.9830\n",
      "Epoch 6/30\n",
      "160/160 [==============================] - 4s 28ms/step - loss: 0.0855 - acc: 0.9727 - val_loss: 0.0386 - val_acc: 0.9860\n",
      "Epoch 7/30\n",
      "160/160 [==============================] - 4s 23ms/step - loss: 0.0775 - acc: 0.9755 - val_loss: 0.0292 - val_acc: 0.9900\n",
      "Epoch 8/30\n",
      "160/160 [==============================] - 2s 14ms/step - loss: 0.0661 - acc: 0.9791 - val_loss: 0.0280 - val_acc: 0.9915\n",
      "Epoch 9/30\n",
      "160/160 [==============================] - 2s 15ms/step - loss: 0.0596 - acc: 0.9809 - val_loss: 0.0274 - val_acc: 0.9875\n",
      "Epoch 10/30\n",
      "160/160 [==============================] - 3s 16ms/step - loss: 0.0589 - acc: 0.9797 - val_loss: 0.0236 - val_acc: 0.9905\n",
      "Epoch 11/30\n",
      "160/160 [==============================] - 2s 13ms/step - loss: 0.0481 - acc: 0.9851 - val_loss: 0.0257 - val_acc: 0.9905\n",
      "Epoch 12/30\n",
      "160/160 [==============================] - 2s 15ms/step - loss: 0.0510 - acc: 0.9829 - val_loss: 0.0354 - val_acc: 0.9895\n",
      "Epoch 13/30\n",
      "160/160 [==============================] - 2s 14ms/step - loss: 0.0443 - acc: 0.9862 - val_loss: 0.0206 - val_acc: 0.9920\n",
      "Epoch 14/30\n",
      "160/160 [==============================] - 2s 13ms/step - loss: 0.0413 - acc: 0.9870 - val_loss: 0.0232 - val_acc: 0.9910\n",
      "Epoch 15/30\n",
      "160/160 [==============================] - 2s 14ms/step - loss: 0.0388 - acc: 0.9872 - val_loss: 0.0199 - val_acc: 0.9930\n",
      "Epoch 16/30\n",
      "160/160 [==============================] - 3s 18ms/step - loss: 0.0384 - acc: 0.9878 - val_loss: 0.0219 - val_acc: 0.9930\n",
      "Epoch 17/30\n",
      "160/160 [==============================] - 3s 18ms/step - loss: 0.0351 - acc: 0.9887 - val_loss: 0.0193 - val_acc: 0.9935\n",
      "Epoch 18/30\n",
      "160/160 [==============================] - 2s 15ms/step - loss: 0.0321 - acc: 0.9902 - val_loss: 0.0192 - val_acc: 0.9930\n",
      "Epoch 19/30\n",
      "160/160 [==============================] - 2s 15ms/step - loss: 0.0312 - acc: 0.9903 - val_loss: 0.0190 - val_acc: 0.9940\n",
      "Epoch 20/30\n",
      "160/160 [==============================] - 2s 15ms/step - loss: 0.0314 - acc: 0.9898 - val_loss: 0.0177 - val_acc: 0.9935\n",
      "Epoch 21/30\n",
      "160/160 [==============================] - 2s 15ms/step - loss: 0.0308 - acc: 0.9896 - val_loss: 0.0173 - val_acc: 0.9950\n",
      "Epoch 22/30\n",
      "160/160 [==============================] - 2s 15ms/step - loss: 0.0264 - acc: 0.9919 - val_loss: 0.0178 - val_acc: 0.9945\n",
      "Epoch 23/30\n",
      "160/160 [==============================] - 2s 15ms/step - loss: 0.0274 - acc: 0.9915 - val_loss: 0.0176 - val_acc: 0.9945\n",
      "Epoch 24/30\n",
      "160/160 [==============================] - 2s 15ms/step - loss: 0.0272 - acc: 0.9915 - val_loss: 0.0306 - val_acc: 0.9915\n",
      "Epoch 25/30\n",
      "160/160 [==============================] - 2s 15ms/step - loss: 0.0267 - acc: 0.9919 - val_loss: 0.0160 - val_acc: 0.9945\n",
      "Epoch 26/30\n",
      "160/160 [==============================] - 2s 13ms/step - loss: 0.0253 - acc: 0.9930 - val_loss: 0.0179 - val_acc: 0.9935\n",
      "Epoch 27/30\n",
      "160/160 [==============================] - 2s 12ms/step - loss: 0.0240 - acc: 0.9932 - val_loss: 0.0228 - val_acc: 0.9915\n",
      "Epoch 28/30\n",
      "160/160 [==============================] - 2s 13ms/step - loss: 0.0261 - acc: 0.9923 - val_loss: 0.0143 - val_acc: 0.9940\n",
      "Epoch 29/30\n",
      "160/160 [==============================] - 2s 13ms/step - loss: 0.0236 - acc: 0.9931 - val_loss: 0.0163 - val_acc: 0.9960\n",
      "Epoch 30/30\n",
      "160/160 [==============================] - 2s 12ms/step - loss: 0.0222 - acc: 0.9935 - val_loss: 0.0144 - val_acc: 0.9960\n"
     ]
    }
   ],
   "source": [
    "history = model.fit(X_train, y_train, epochs=30, batch_size=100, validation_data=(X_val, y_val))"
   ]
  },
  {
   "cell_type": "code",
   "execution_count": 265,
   "metadata": {},
   "outputs": [
    {
     "data": {
      "image/png": "[encoded data removed]",
      "text/plain": [
       "<Figure size 432x288 with 1 Axes>"
      ]
     },
     "metadata": {
      "needs_background": "light"
     },
     "output_type": "display_data"
    },
    {
     "data": {
      "image/png": "[encoded data removed]",
      "text/plain": [
       "<Figure size 432x288 with 1 Axes>"
      ]
     },
     "metadata": {
      "needs_background": "light"
     },
     "output_type": "display_data"
    }
   ],
   "source": [
    "# Plot results\n",
    "import matplotlib.pyplot as plt\n",
    "\n",
    "acc = history.history['acc']\n",
    "val_acc = history.history['val_acc']\n",
    "loss = history.history['loss']\n",
    "val_loss = history.history['val_loss']\n",
    "\n",
    "epochs = range(1, len(acc) + 1)\n",
    "\n",
    "plt.plot(epochs, acc, label='Training accuracy')\n",
    "plt.plot(epochs, val_acc,  label='Validation accuracy')\n",
    "plt.title('Training and Validation Accuracy')\n",
    "plt.xlabel('Epoch')\n",
    "plt.legend()\n",
    "\n",
    "plt.figure()\n",
    "\n",
    "plt.plot(epochs, loss, label='Training loss')\n",
    "plt.plot(epochs, val_loss, label='Validation loss')\n",
    "plt.title('Training and Validation loss')\n",
    "plt.xlabel('Epoch')\n",
    "plt.legend()\n",
    "\n",
    "plt.show()"
   ]
  },
  {
   "cell_type": "code",
   "execution_count": 266,
   "metadata": {},
   "outputs": [
    {
     "name": "stdout",
     "output_type": "stream",
     "text": [
      "63/63 [==============================] - 0s 3ms/step - loss: 0.0147 - acc: 0.9960\n"
     ]
    }
   ],
   "source": [
    "loss, acc = model.evaluate(x=X_test, y=y_test)"
   ]
  },
  {
   "cell_type": "code",
   "execution_count": 267,
   "metadata": {},
   "outputs": [
    {
     "name": "stdout",
     "output_type": "stream",
     "text": [
      "Answer: 0  Prediction: [[6.1380384e-10]]\n",
      "Answer: 0  Prediction: [[4.8219692e-20]]\n",
      "Answer: 1  Prediction: [[0.9999846]]\n",
      "Answer: 1  Prediction: [[1.]]\n",
      "Answer: 0  Prediction: [[6.96268e-05]]\n",
      "Answer: 0  Prediction: [[2.5176017e-20]]\n",
      "Answer: 1  Prediction: [[0.9999682]]\n",
      "Answer: 1  Prediction: [[0.99608266]]\n",
      "Answer: 0  Prediction: [[2.1055073e-15]]\n",
      "Answer: 1  Prediction: [[1.]]\n",
      "Answer: 0  Prediction: [[6.502824e-07]]\n",
      "Answer: 1  Prediction: [[0.99999905]]\n",
      "Answer: 1  Prediction: [[1.]]\n",
      "Answer: 1  Prediction: [[1.]]\n",
      "Answer: 0  Prediction: [[1.10979556e-07]]\n",
      "Answer: 1  Prediction: [[1.]]\n",
      "Answer: 0  Prediction: [[1.6322045e-14]]\n",
      "Answer: 0  Prediction: [[2.8387431e-08]]\n",
      "Answer: 1  Prediction: [[0.99962115]]\n",
      "Answer: 0  Prediction: [[5.538398e-13]]\n"
     ]
    }
   ],
   "source": [
    "# prediction testing\n",
    "for i in range(200, 220):\n",
    "    print('Answer:', y_test[i], ' Prediction:', model.predict(np.expand_dims(X_test[i], 0)))"
   ]
  },
  {
   "cell_type": "code",
   "execution_count": 268,
   "metadata": {},
   "outputs": [
    {
     "name": "stdout",
     "output_type": "stream",
     "text": [
      "[[1.]]\n",
      "(13, 40)\n"
     ]
    },
    {
     "data": {
      "image/png": "[encoded data removed]",
      "text/plain": [
       "<Figure size 432x288 with 1 Axes>"
      ]
     },
     "metadata": {
      "needs_background": "light"
     },
     "output_type": "display_data"
    }
   ],
   "source": [
    "silence = AudioSegment.silent(duration=1000, frame_rate=10000);\n",
    "\n",
    "def test_clip(path):\n",
    "    sr =10000\n",
    "    signal2 = AudioSegment.from_file(path, format='wav', channels=1)\n",
    "    signal2 = AudioSegment.set_channels(signal2, 1)\n",
    "    signal2 = silence.overlay(signal2)\n",
    "    signal2 = AudioSegment.set_frame_rate(signal2, sr)\n",
    "    signal2 = np.array(signal2.get_array_of_samples())\n",
    "    mfcc = python_speech_features.base.mfcc(signal2, samplerate=sr, winstep=0.025, numcep=13, winfunc=np.hanning)\n",
    "    return mfcc.transpose()\n",
    "\n",
    "\n",
    "mfcc = test_clip('./sounds/synthesized/positive/positive_clean_1.wav')\n",
    "out = model.predict(np.expand_dims(mfcc, 0))\n",
    "print(out)\n",
    "\n",
    "fig = plt.figure()\n",
    "plt.imshow(mftt, origin='lower', cmap=\"magma\")\n",
    "print(mfcc.shape)\n"
   ]
  },
  {
   "cell_type": "code",
   "execution_count": 269,
   "metadata": {},
   "outputs": [
    {
     "name": "stdout",
     "output_type": "stream",
     "text": [
      "INFO:tensorflow:Assets written to: ./smithers_model\\assets\n"
     ]
    }
   ],
   "source": [
    "Models.save_model(model, './smithers_model')"
   ]
  },
  {
   "cell_type": "code",
   "execution_count": 270,
   "metadata": {},
   "outputs": [],
   "source": [
    "import tensorflow as tf\n",
    "\n",
    "# Convert the model\n",
    "converter = tf.lite.TFLiteConverter.from_saved_model('./smithers_model')\n",
    "smithers_lite = converter.convert()\n",
    "\n",
    "# Save the model.\n",
    "with open('smithers_lite.tflite', 'wb') as f:\n",
    "  f.write(smithers_lite)"
   ]
  }
 ],
 "metadata": {
  "interpreter": {
   "hash": "dc0c082c8278d5ca81fdeb41531b9ccb1c873ba8de4817c0aeff67ccf2426a63"
  },
  "kernelspec": {
   "display_name": "Python 3.9.7 64-bit ('smithers': conda)",
   "name": "python3"
  },
  "language_info": {
   "codemirror_mode": {
    "name": "ipython",
    "version": 3
   },
   "file_extension": ".py",
   "mimetype": "text/x-python",
   "name": "python",
   "nbconvert_exporter": "python",
   "pygments_lexer": "ipython3",
   "version": "3.9.7"
  },
  "orig_nbformat": 4
 },
 "nbformat": 4,
 "nbformat_minor": 2
}
